{
  "nbformat": 4,
  "nbformat_minor": 0,
  "metadata": {
    "colab": {
      "name": "colab_public01.ipynb",
      "version": "0.3.2",
      "provenance": [],
      "collapsed_sections": []
    },
    "kernelspec": {
      "name": "python3",
      "display_name": "Python 3"
    },
    "accelerator": "GPU"
  },
  "cells": [
    {
      "metadata": {
        "id": "T37FR7Bpnitq",
        "colab_type": "text"
      },
      "cell_type": "markdown",
      "source": [
        "# 구글드라이브 마운트하기\n",
        "### 아래코드 실행하여 url에 접속하여 인증코드 입력하면 구글드라이브가 마운트된다"
      ]
    },
    {
      "metadata": {
        "id": "P3f5kOxFXDPJ",
        "colab_type": "code",
        "colab": {}
      },
      "cell_type": "code",
      "source": [
        "from google.colab import drive\n",
        "drive.mount('/content/gdrive')\n"
      ],
      "execution_count": 0,
      "outputs": []
    },
    {
      "metadata": {
        "id": "danXG6vmn-Rr",
        "colab_type": "text"
      },
      "cell_type": "markdown",
      "source": [
        "### 마운트할때 지정한 경로아래 My Drive/Colab Notebooks 폴더가 생성된다"
      ]
    },
    {
      "metadata": {
        "id": "5U27zJFtYDZ0",
        "colab_type": "code",
        "colab": {}
      },
      "cell_type": "code",
      "source": [
        "# 구글드라이브 마운트 확인\n",
        "ll /content/gdrive/\"My Drive\"/\"Colab Notebooks\""
      ],
      "execution_count": 0,
      "outputs": []
    },
    {
      "metadata": {
        "id": "fvpwLFS6oThr",
        "colab_type": "text"
      },
      "cell_type": "markdown",
      "source": [
        "# matplotlib를 사용하기 위해서는 한글폰트를 설치해야함\n",
        "### 한글폰트 버전확인"
      ]
    },
    {
      "metadata": {
        "id": "I8io2mdMbYbc",
        "colab_type": "code",
        "colab": {}
      },
      "cell_type": "code",
      "source": [
        "#matplotlib 한글폰트 설치\n",
        "%matplotlib inline  \n",
        "\n",
        "import matplotlib as mpl  # 기본 설정 만지는 용도\n",
        "import matplotlib.pyplot as plt  # 그래프 그리는 용도\n",
        "import matplotlib.font_manager as fm  # 폰트 관련 용도\n",
        "\n",
        "#버전 확인\n",
        "print(mpl.__version__)\n",
        "print(mpl.__file__)\n",
        "print(mpl.get_configdir())\n",
        "print(mpl.get_cachedir())"
      ],
      "execution_count": 0,
      "outputs": []
    },
    {
      "metadata": {
        "id": "PnZjnr1tvvMb",
        "colab_type": "text"
      },
      "cell_type": "markdown",
      "source": [
        "### 시스템에 설치된 폰트 확인 및 설치"
      ]
    },
    {
      "metadata": {
        "id": "Wf5bHqVYb-8G",
        "colab_type": "code",
        "colab": {}
      },
      "cell_type": "code",
      "source": [
        "#시스템에 설치된 폰트 확인\n",
        "sys_font=fm.findSystemFonts()\n",
        "print(f\"sys_font number: {len(sys_font)}\")\n",
        "print(sys_font)\n",
        "\n",
        "nanum_font = [f for f in sys_font if 'Nanum' in f]\n",
        "print(f\"nanum_font number: {len(nanum_font)}\")"
      ],
      "execution_count": 0,
      "outputs": []
    },
    {
      "metadata": {
        "id": "74Xs7v8Gcam3",
        "colab_type": "code",
        "colab": {}
      },
      "cell_type": "code",
      "source": [
        "#나눔고딕 설치\n",
        "!apt-get update -qq\n",
        "!apt-get install fonts-nanum* -qq"
      ],
      "execution_count": 0,
      "outputs": []
    },
    {
      "metadata": {
        "id": "uIFHjNiNcgXd",
        "colab_type": "code",
        "colab": {}
      },
      "cell_type": "code",
      "source": [
        "# 체크해보면 폰트 개수가 늘어났다\n",
        "sys_font=fm.findSystemFonts()\n",
        "print(f\"sys_font number: {len(sys_font)}\")\n",
        "\n",
        "nanum_font = [f for f in sys_font if 'Nanum' in f]\n",
        "print(f\"nanum_font number: {len(nanum_font)}\")\n",
        "#폰트확인\n",
        "nanum_font"
      ],
      "execution_count": 0,
      "outputs": []
    },
    {
      "metadata": {
        "id": "YjYNHMifwKFZ",
        "colab_type": "text"
      },
      "cell_type": "markdown",
      "source": [
        "### 설치한 한글폰트 설정"
      ]
    },
    {
      "metadata": {
        "id": "jo9vZ_XLcrtQ",
        "colab_type": "code",
        "colab": {}
      },
      "cell_type": "code",
      "source": [
        "# 현재 설정되어 있는 폰트 사이즈와 글꼴을 알아보자\n",
        "!python --version\n",
        "def current_font():\n",
        "  print(f\"설정 폰트 글꼴: {plt.rcParams['font.family']}, 설정 폰트 사이즈: {plt.rcParams['font.size']}\")  # 파이썬 3.6 이상 사용가능하다\n",
        "        \n",
        "current_font()"
      ],
      "execution_count": 0,
      "outputs": []
    },
    {
      "metadata": {
        "id": "scjK7PEYhXYG",
        "colab_type": "code",
        "colab": {}
      },
      "cell_type": "code",
      "source": [
        "#폰트설정\n",
        "path = '/usr/share/fonts/truetype/nanum/NanumGothicEco.ttf'  # 설치된 나눔글꼴중 원하는 녀석의 전체 경로를 가져오자\n",
        "font_name = fm.FontProperties(fname=path, size=10).get_name()\n",
        "print(font_name)\n",
        "plt.rc('font', family=font_name)"
      ],
      "execution_count": 0,
      "outputs": []
    },
    {
      "metadata": {
        "id": "Ho4FOsZChixW",
        "colab_type": "code",
        "colab": {}
      },
      "cell_type": "code",
      "source": [
        "# fm._rebuild() 를 해주고\n",
        "fm._rebuild()\n",
        "# 마이너스기호 깨짐현상 해결\n",
        "mpl.rcParams['axes.unicode_minus'] = False"
      ],
      "execution_count": 0,
      "outputs": []
    },
    {
      "metadata": {
        "id": "Kc9ME4A_wf5D",
        "colab_type": "text"
      },
      "cell_type": "markdown",
      "source": [
        "# 공공데이터 수집\n",
        "### 구글드라이브에 sqlite db 파일로 저장"
      ]
    },
    {
      "metadata": {
        "id": "iIrPrItZnNhs",
        "colab_type": "code",
        "colab": {}
      },
      "cell_type": "code",
      "source": [
        "#공공데이터 가져와서 구글드라이브에 저장\n",
        "from urllib.request import urlopen\n",
        "import pandas as pd\n",
        "from bs4 import BeautifulSoup\n",
        "import sqlite3\n",
        "# from html_table_parser import parser_functions as parser\n",
        " \n",
        " \n",
        "def collect_land(ym,lawd_cd):\n",
        " \n",
        "    API_KEY = \"UmeOG8fXLWmdW2DwQMpFHgFwx%2BkwkYDtw16TtQeaP4xzbqtKCv08tZUAY8UcykdaFQ6Q92pbC4jJruoenAfXjA%3D%3D\"\n",
        "    url=\"http://openapi.molit.go.kr/OpenAPI_ToolInstallPackage/service/rest/RTMSOBJSvc/getRTMSDataSvcAptTradeDev\"\n",
        " \n",
        "    url=url+\"?LAWD_CD=\"+lawd_cd+\"&DEAL_YMD=\"+ym+\"&numOfRows=1000000\"+\"&serviceKey=\"+API_KEY\n",
        "        \n",
        "    resultXML = urlopen(url)\n",
        "    result = resultXML.read()\n",
        "    xmlsoup = BeautifulSoup(result, 'lxml-xml')\n",
        " \n",
        "    te=xmlsoup.findAll(\"item\")\n",
        "    sil=pd.DataFrame()\n",
        "    \n",
        "    print(url)\n",
        "    \n",
        "    for t in te:\n",
        "        try:        \n",
        "          거래금액 = t.find(\"거래금액\").text\n",
        "          건축년도 = t.find(\"건축년도\").text\n",
        "          년 = t.find(\"년\").text\n",
        "          도로명 = t.find(\"도로명\").text\n",
        "          도로명건물본번호코드 = t.find(\"도로명건물본번호코드\").text\n",
        "          도로명건물부번호코드 = t.find(\"도로명건물부번호코드\").text\n",
        "          도로명시군구코드 = t.find(\"도로명시군구코드\").text\n",
        "          도로명코드 = t.find(\"도로명코드\").text\n",
        "          법정동 = t.find(\"법정동\").text\n",
        "          법정동본번코드 = t.find(\"법정동본번코드\").text\n",
        "          법정동부번코드 = t.find(\"법정동부번코드\").text\n",
        "          법정동시군구코드 = t.find(\"법정동시군구코드\").text\n",
        "          법정동읍면동코드 = t.find(\"법정동읍면동코드\").text\n",
        "          법정동지번코드 = t.find(\"법정동지번코드\").text\n",
        "          아파트 = t.find(\"아파트\").text\n",
        "          월 = t.find(\"월\").text\n",
        "          일 = t.find(\"일\").text\n",
        "          전용면적 = t.find(\"전용면적\").text\n",
        "          지역코드 = t.find(\"지역코드\").text\n",
        "          층 = t.find(\"층\").text        \n",
        "          지번 = t.find(\"지번\").text\n",
        "                \n",
        "          temp = pd.DataFrame(([[\n",
        "              거래금액\n",
        "              ,건축년도\n",
        "              ,년\n",
        "              ,도로명\n",
        "              ,도로명건물본번호코드\n",
        "              ,도로명건물부번호코드\n",
        "              ,도로명시군구코드\n",
        "              ,도로명코드\n",
        "              ,법정동\n",
        "              ,법정동본번코드 \n",
        "              ,법정동부번코드 \n",
        "              ,법정동시군구코드\n",
        "              ,법정동읍면동코드\n",
        "              ,법정동지번코드 \n",
        "              ,아파트\n",
        "              ,월\n",
        "              ,일\n",
        "              ,전용면적\n",
        "              ,지번\n",
        "              ,지역코드\n",
        "              ,층\n",
        "          ]]),\n",
        "                              columns=[\n",
        "                                  \"거래금액\"\n",
        "                                  ,\"건축년도\"\n",
        "                                  ,\"년\"\n",
        "                                  ,\"도로명\"\n",
        "                                  ,\"도로명건물본번호코드\"\n",
        "                                  ,\"도로명건물부번호코드\"\n",
        "                                  ,\"도로명시군구코드\"\n",
        "                                  ,\"도로명코드\"\n",
        "                                  ,\"법정동\"\n",
        "                                  ,\"법정동본번코드\"\n",
        "                                  ,\"법정동부번코드\"\n",
        "                                  ,\"법정동시군구코드\"\n",
        "                                  ,\"법정동읍면동코드\"\n",
        "                                  ,\"법정동지번코드\"\n",
        "                                  ,\"아파트\"\n",
        "                                  ,\"월\"\n",
        "                                  ,\"일\"\n",
        "                                  ,\"전용면적\"\n",
        "                                  ,\"지번\"\n",
        "                                  ,\"지역코드\"\n",
        "                                  ,\"층\"\n",
        "                              ])\n",
        "          sil=pd.concat([sil,temp])\n",
        "\n",
        "        except:\n",
        "          pass\n",
        "     \n",
        "    sil=sil.reset_index(drop=True)\n",
        "    \n",
        "    return sil\n",
        "\n",
        "\n",
        "def sqlite_append(sil_trade):\n",
        "  con = sqlite3.connect(\"/content/gdrive/My Drive/Colab Notebooks/real_trade.db\")\n",
        "\n",
        "  sil_trade.to_sql('lent', con, if_exists='append', index=False)\n",
        "\n",
        "  con.close()\n",
        "  \n",
        "  \n",
        "if __name__==\"__main__\":\n",
        " \n",
        "\n",
        "    # 지역코드 가져오기\n",
        "    # https://www.mois.go.kr/frt/bbs/type001/commonSelectBoardArticle.do?bbsId=BBSMSTR_000000000052&nttId=61552\n",
        "\n",
        "\n",
        "    code=pd.read_excel(\"/content/gdrive/My Drive/Colab Notebooks/KIKcd_B.20180122.xlsx\")\n",
        "\n",
        "\n",
        "\n",
        "    code_seo=code[(code[\"시도명\"]==\"경기도\")] #| (code[\"시도명\"]==\"서울특별시\")]\n",
        "\n",
        "    code_seo = code_seo[code_seo[\"시군구명\"].isnull() == False]\n",
        "\n",
        "    code_seo = code_seo[code_seo[\"읍면동명\"].isnull() == True]\n",
        "    \n",
        "    #code_seo = code_seo[code_seo[\"법정동코드\"].astype(str).str[0:5] < \"11140\"]\n",
        "\n",
        "    code_seo[\"ji_code\"] = code_seo[\"법정동코드\"].astype(str).str[0:5]\n",
        "\n",
        "\n",
        "\n",
        "    \n",
        "\n",
        "\n",
        "ym=list([\"201801\",\"201802\",\"201803\",\"201804\",\"201805\",\"201806\",\"201807\",\"201808\",\"201809\",\"201810\",\"201811\",\"201812\",\"201901\"])\n",
        "# ym=list([\"201812\"])\n",
        "\n",
        "for m in ym:\n",
        "  \n",
        "  for co in code_seo[\"ji_code\"]:\n",
        "    \n",
        "    temp=collect_land(m,co)\n",
        "    \n",
        "    sil_trade=pd.DataFrame()    \n",
        "    sil_trade=pd.concat([sil_trade,temp])\n",
        "    sqlite_append(sil_trade)\n",
        "    \n",
        "    print(co+\", \"+str(len(temp))+\" is compleded\")\n",
        "    \n",
        "  print(\"*\"+str(m)+\" is completed\")\n",
        "\n",
        "\n"
      ],
      "execution_count": 0,
      "outputs": []
    },
    {
      "metadata": {
        "id": "vN5ROIp4wsX2",
        "colab_type": "text"
      },
      "cell_type": "markdown",
      "source": [
        "### sqlite에 적재된 데이터 확인하기"
      ]
    },
    {
      "metadata": {
        "id": "n7EmPGsJFNSS",
        "colab_type": "code",
        "colab": {}
      },
      "cell_type": "code",
      "source": [
        "import sqlite3\n",
        "\n",
        "# SQLite DB 연결\n",
        "conn = sqlite3.connect(\"/content/gdrive/My Drive/Colab Notebooks/real_trade.db\")\n",
        " \n",
        "# Connection 으로부터 Cursor 생성\n",
        "cur = conn.cursor()\n",
        " \n",
        "data = cur.execute(\"select * from lent where 년='2018' and 월='1' and 지역코드 = '41111'\")\n",
        "     \n",
        "names = list(map(lambda x: x[0], cur.description))\n",
        "print(names)\n",
        "\n",
        "# 데이타 Fetch\n",
        "rows = cur.fetchall()\n",
        "for row in rows:\n",
        "    print(row)\n",
        "\n",
        "\n",
        "# Connection 닫기\n",
        "conn.close()\n",
        "\n",
        "\n",
        "#http://openapi.molit.go.kr/OpenAPI_ToolInstallPackage/service/rest/RTMSOBJSvc/getRTMSDataSvcAptTradeDev?LAWD_CD=41110&DEAL_YMD=201801&numOfRows=1000000&serviceKey=UmeOG8fXLWmdW2DwQMpFHgFwx%2BkwkYDtw16TtQeaP4xzbqtKCv08tZUAY8UcykdaFQ6Q92pbC4jJruoenAfXjA%3D%3D\n",
        "#41110, 0 is compleded\n",
        "#http://openapi.molit.go.kr/OpenAPI_ToolInstallPackage/service/rest/RTMSOBJSvc/getRTMSDataSvcAptTradeDev?LAWD_CD=41111&DEAL_YMD=201801&numOfRows=1000000&serviceKey=UmeOG8fXLWmdW2DwQMpFHgFwx%2BkwkYDtw16TtQeaP4xzbqtKCv08tZUAY8UcykdaFQ6Q92pbC4jJruoenAfXjA%3D%3D\n",
        "#41111, 245 is compleded\n",
        "#http://openapi.molit.go.kr/OpenAPI_ToolInstallPackage/service/rest/RTMSOBJSvc/getRTMSDataSvcAptTradeDev?LAWD_CD=41113&DEAL_YMD=201801&numOfRows=1000000&serviceKey=UmeOG8fXLWmdW2DwQMpFHgFwx%2BkwkYDtw16TtQeaP4xzbqtKCv08tZUAY8UcykdaFQ6Q92pbC4jJruoenAfXjA%3D%3D\n",
        "#41113, 288 is compleded\n",
        "#http://openapi.molit.go.kr/OpenAPI_ToolInstallPackage/service/rest/RTMSOBJSvc/getRTMSDataSvcAptTradeDev?LAWD_CD=41115&DEAL_YMD=201801&numOfRows=1000000&serviceKey=UmeOG8fXLWmdW2DwQMpFHgFwx%2BkwkYDtw16TtQeaP4xzbqtKCv08tZUAY8UcykdaFQ6Q92pbC4jJruoenAfXjA%3D%3D\n",
        "#41115, 202 is compleded"
      ],
      "execution_count": 0,
      "outputs": []
    },
    {
      "metadata": {
        "id": "qM13IVVqR1IX",
        "colab_type": "text"
      },
      "cell_type": "markdown",
      "source": [
        "# 공공데이터 처리\n",
        "### sqlite 테이블 생성, 삭제 / 데이터 입력 삭제 조회"
      ]
    },
    {
      "metadata": {
        "id": "rxS3uGfONfSh",
        "colab_type": "code",
        "colab": {
          "base_uri": "https://localhost:8080/",
          "height": 34
        },
        "outputId": "e499a332-37aa-4427-a865-9ae32a212069"
      },
      "cell_type": "code",
      "source": [
        "import sqlite3\n",
        "import pandas as pd\n",
        "\n",
        "# SQLite DB 연결\n",
        "conn = sqlite3.connect(\"/content/gdrive/My Drive/Colab Notebooks/real_trade.db\")\n",
        " \n",
        "# Connection 으로부터 Cursor 생성\n",
        "cur = conn.cursor()\n",
        "\n",
        "#cur.execute(\"drop table new_lent;\")\n",
        "#cur.execute(\"create table new_lent as select distinct * from lent where 년='2018' and 월='1' and 지역코드 in ('41111','41113','41115');\")\n",
        "\n",
        "#cur.execute(\"delete from lent where 년='2018' and 월='1' and 지역코드 in ('41111','41113','41115');\")\n",
        "#cur.execute(\"insert into lent select * from new_lent where 년='2018' and 월='1' and 지역코드 in ('41111','41113','41115');\")\n",
        " \n",
        "# SQL 쿼리 실행\n",
        "data = pd.read_sql(\"select * from lent where 년='2018' and 월='1' and 지역코드 in ('41111','41113','41115') order by 1\", conn, index_col=None)  \n",
        "\n",
        "print(data.shape[0])\n",
        "\n",
        "#conn.rollback()\n",
        "#conn.commit()\n",
        "\n",
        "conn.close()"
      ],
      "execution_count": 53,
      "outputs": [
        {
          "output_type": "stream",
          "text": [
            "734\n"
          ],
          "name": "stdout"
        }
      ]
    },
    {
      "metadata": {
        "id": "PZOA5_ciw5hV",
        "colab_type": "text"
      },
      "cell_type": "markdown",
      "source": [
        "### sqlite 파일 두개를 하나로 합치기"
      ]
    },
    {
      "metadata": {
        "id": "1DkDDC9rQ997",
        "colab_type": "code",
        "colab": {}
      },
      "cell_type": "code",
      "source": [
        "#sqlite 파일 두개를 하나로 합치기\n",
        "import sqlite3\n",
        "import pandas as pd\n",
        "\n",
        "# SQLite DB 연결\n",
        "conn = sqlite3.connect(\"/content/gdrive/My Drive/Colab Notebooks/real_trade.db\")\n",
        "conn2 = sqlite3.connect(\"/content/gdrive/My Drive/Colab Notebooks/real_trade2.db\")\n",
        " \n",
        "# Connection 으로부터 Cursor 생성\n",
        "cur = conn.cursor()\n",
        "cur2 = conn2.cursor()\n",
        " \n",
        "# SQL 쿼리 실행\n",
        "df = pd.read_sql(\"select * from lent\", conn2, index_col=None)\n",
        "\n",
        "df.to_sql('lent', conn, if_exists='append', index=False)\n",
        "\n",
        "conn.close()\n",
        "conn2.close()\n"
      ],
      "execution_count": 0,
      "outputs": []
    },
    {
      "metadata": {
        "id": "KXL5esvMGl1c",
        "colab_type": "text"
      },
      "cell_type": "markdown",
      "source": [
        "### Dataframe에서 조인하기"
      ]
    },
    {
      "metadata": {
        "id": "ToTTFCqTkd4R",
        "colab_type": "code",
        "colab": {}
      },
      "cell_type": "code",
      "source": [
        "import sqlite3\n",
        "import pandas as pd\n",
        "\n",
        "# SQLite DB 연결\n",
        "conn = sqlite3.connect(\"/content/gdrive/My Drive/Colab Notebooks/real_trade.db\")\n",
        " \n",
        "# Connection 으로부터 Cursor 생성\n",
        "cur = conn.cursor()\n",
        " \n",
        "# SQL 쿼리 실행\n",
        "data = pd.read_sql(\"select * from lent\", conn, index_col=None)   \n",
        "\n",
        "code=pd.read_excel(\"/content/gdrive/My Drive/Colab Notebooks/KIKcd_B.20180122.xlsx\")\n",
        "#code=code.set_index('법정동코드')\n",
        "\n",
        "#df = pd.merge(data, code, how='inner', on='법정동코드')\n",
        "data.loc[:, '법정동코드'] = (data.loc[:,'법정동시군구코드']+data.loc[:,'법정동읍면동코드']).astype(int)\n",
        "\n",
        "df = pd.merge(data, code, how='left', on='법정동코드')\n",
        "\n",
        "#print(code.loc[1111010900])\n",
        "\n",
        "#print(data)\n",
        "#print(code)\n",
        "\n",
        "#names = list(map(lambda x: x[0], cur.description))\n",
        "#print(names)\n",
        "\n",
        "# 데이타 Fetch\n",
        "#rows = cur.fetchall()\n",
        "#for row in rows:\n",
        "#    print(row)\n",
        "\n",
        "\n",
        "\n",
        "# Connection 닫기\n",
        "conn.close()"
      ],
      "execution_count": 0,
      "outputs": []
    },
    {
      "metadata": {
        "id": "6ov-Z3evG3k6",
        "colab_type": "text"
      },
      "cell_type": "markdown",
      "source": [
        "# 공공데이터 분석\n",
        "### matplotlib를 사용하여 데이터 시각화"
      ]
    },
    {
      "metadata": {
        "id": "gzGkAFcd0URU",
        "colab_type": "code",
        "colab": {}
      },
      "cell_type": "code",
      "source": [
        "import matplotlib as mpl\n",
        "import matplotlib.pylab as plt\n",
        "\n",
        "\n",
        "x = pd.DataFrame(df.groupby('시군구명')['거래금액'].count())\n",
        "\n",
        "#print(x)\n",
        "\n",
        "x.plot()\n",
        "plt.title(\"거래건수\")\n",
        "plt.xlabel('시군구명')\n",
        "plt.subplots_adjust(0,0,10,3,1,1)\n",
        "plt.show()\n",
        "\n",
        "#plt.title(\"거래건수\")\n",
        "#plt.plot(x)\n",
        "#plt.plot(x['시군구']['거래금액'])\n",
        "#plt.plot(x['거래금액'], l)\n",
        "#plt.legend(loc=2)\n",
        "#plt.show()\n",
        "\n",
        "\n"
      ],
      "execution_count": 0,
      "outputs": []
    }
  ]
}