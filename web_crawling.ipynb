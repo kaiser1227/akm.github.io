{
  "nbformat": 4,
  "nbformat_minor": 0,
  "metadata": {
    "colab": {
      "name": "web_crawling.ipynb",
      "version": "0.3.2",
      "provenance": [],
      "collapsed_sections": []
    },
    "kernelspec": {
      "name": "python3",
      "display_name": "Python 3"
    }
  },
  "cells": [
    {
      "metadata": {
        "id": "cJaVnJaq3wD6",
        "colab_type": "text"
      },
      "cell_type": "markdown",
      "source": [
        "## requests와 BeautifulSoup으로 웹 크롤링"
      ]
    },
    {
      "metadata": {
        "id": "D_oj6CLa4C-x",
        "colab_type": "text"
      },
      "cell_type": "markdown",
      "source": [
        "### requests로 html 소스 가져오기"
      ]
    },
    {
      "metadata": {
        "id": "0KvQRS21Q2KF",
        "colab_type": "code",
        "colab": {}
      },
      "cell_type": "code",
      "source": [
        "import requests\n",
        "\n",
        "## HTTP GET Request\n",
        "req = requests.get('https://kaiser1227.github.io/')\n",
        "\n",
        "## HTML 소스 가져오기\n",
        "html = req.text\n",
        "## HTTP Header 가져오기\n",
        "header = req.headers\n",
        "## HTTP Status 가져오기 (200: 정상)\n",
        "status = req.status_code\n",
        "## HTTP가 정상적으로 되었는지 (True/False)\n",
        "is_ok = req.ok\n",
        "\n",
        "html\n"
      ],
      "execution_count": 0,
      "outputs": []
    },
    {
      "metadata": {
        "id": "Ekx5Sa-j4Il1",
        "colab_type": "text"
      },
      "cell_type": "markdown",
      "source": [
        "### beautifulSoup로 html 소스 가져오기"
      ]
    },
    {
      "metadata": {
        "id": "bltdBLf1w6V4",
        "colab_type": "code",
        "colab": {}
      },
      "cell_type": "code",
      "source": [
        "import requests\n",
        "from bs4 import BeautifulSoup\n",
        "\n",
        "## HTTP GET Request\n",
        "req = requests.get('https://kaiser1227.github.io/')\n",
        "## HTML 소스 가져오기\n",
        "html = req.text\n",
        "## BeautifulSoup으로 html소스를 python객체로 변환하기\n",
        "## 첫 인자는 html소스코드, 두 번째 인자는 어떤 parser를 이용할지 명시.\n",
        "## 이 글에서는 Python 내장 html.parser를 이용했다.\n",
        "soup = BeautifulSoup(html, 'html.parser')\n",
        "\n",
        "soup"
      ],
      "execution_count": 0,
      "outputs": []
    },
    {
      "metadata": {
        "id": "0irLCjSd4Sw5",
        "colab_type": "text"
      },
      "cell_type": "markdown",
      "source": [
        "###html 특정 태그 값 조회하기"
      ]
    },
    {
      "metadata": {
        "id": "Scm0fhQtxMC8",
        "colab_type": "code",
        "colab": {}
      },
      "cell_type": "code",
      "source": [
        "## parser.py\n",
        "import requests\n",
        "from bs4 import BeautifulSoup\n",
        "\n",
        "req = requests.get('https://kaiser1227.github.io/')\n",
        "html = req.text\n",
        "soup = BeautifulSoup(html, 'html.parser')\n",
        "## CSS Selector를 통해 html요소들을 찾아낸다.\n",
        "my_titles = soup.select(\n",
        "    'h2'\n",
        "    )\n",
        "\n",
        "print(my_titles)\n",
        "\n",
        "## my_titles는 list 객체\n",
        "for title in my_titles:\n",
        "    ## Tag안의 텍스트\n",
        "    print(title.text)\n",
        "    ## Tag의 속성을 가져오기(ex: href속성)\n",
        "    print(title.get('h2'))"
      ],
      "execution_count": 0,
      "outputs": []
    }
  ]
}